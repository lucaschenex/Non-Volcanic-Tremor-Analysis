{
 "metadata": {
  "name": "",
  "signature": "sha256:86e4376882ccf017af67f2a50ec33d99aeb9f683517e5e7933c283579a2990d3"
 },
 "nbformat": 3,
 "nbformat_minor": 0,
 "worksheets": []
}